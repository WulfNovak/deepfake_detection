{
 "cells": [
  {
   "cell_type": "code",
   "execution_count": 31,
   "metadata": {},
   "outputs": [
    {
     "name": "stderr",
     "output_type": "stream",
     "text": [
      "2024-12-11 18:25:41,631\tINFO worker.py:1783 -- Started a local Ray instance.\n"
     ]
    },
    {
     "data": {
      "application/vnd.jupyter.widget-view+json": {
       "model_id": "d18d920de7cf480e821822050b8cbbbe",
       "version_major": 2,
       "version_minor": 0
      },
      "text/html": [
       "<div class=\"lm-Widget p-Widget lm-Panel p-Panel jp-Cell-outputWrapper\">\n",
       "    <div style=\"margin-left: 50px;display: flex;flex-direction: row;align-items: center\">\n",
       "        <div class=\"jp-RenderedHTMLCommon\" style=\"display: flex; flex-direction: row;\">\n",
       "  <svg viewBox=\"0 0 567 224\" fill=\"none\" xmlns=\"http://www.w3.org/2000/svg\" style=\"height: 3em;\">\n",
       "    <g clip-path=\"url(#clip0_4338_178347)\">\n",
       "        <path d=\"M341.29 165.561H355.29L330.13 129.051C345.63 123.991 354.21 112.051 354.21 94.2307C354.21 71.3707 338.72 58.1807 311.88 58.1807H271V165.561H283.27V131.661H311.8C314.25 131.661 316.71 131.501 319.01 131.351L341.25 165.561H341.29ZM283.29 119.851V70.0007H311.82C331.3 70.0007 342.34 78.2907 342.34 94.5507C342.34 111.271 331.34 119.861 311.82 119.861L283.29 119.851ZM451.4 138.411L463.4 165.561H476.74L428.74 58.1807H416L367.83 165.561H380.83L392.83 138.411H451.4ZM446.19 126.601H398L422 72.1407L446.24 126.601H446.19ZM526.11 128.741L566.91 58.1807H554.35L519.99 114.181L485.17 58.1807H472.44L514.01 129.181V165.541H526.13V128.741H526.11Z\" fill=\"var(--jp-ui-font-color0)\"/>\n",
       "        <path d=\"M82.35 104.44C84.0187 97.8827 87.8248 92.0678 93.1671 87.9146C98.5094 83.7614 105.083 81.5067 111.85 81.5067C118.617 81.5067 125.191 83.7614 130.533 87.9146C135.875 92.0678 139.681 97.8827 141.35 104.44H163.75C164.476 101.562 165.622 98.8057 167.15 96.2605L127.45 56.5605C121.071 60.3522 113.526 61.6823 106.235 60.3005C98.9443 58.9187 92.4094 54.9203 87.8602 49.0574C83.3109 43.1946 81.0609 35.8714 81.5332 28.4656C82.0056 21.0599 85.1679 14.0819 90.4252 8.8446C95.6824 3.60726 102.672 0.471508 110.08 0.0272655C117.487 -0.416977 124.802 1.86091 130.647 6.4324C136.493 11.0039 140.467 17.5539 141.821 24.8501C143.175 32.1463 141.816 39.6859 138 46.0505L177.69 85.7505C182.31 82.9877 187.58 81.4995 192.962 81.4375C198.345 81.3755 203.648 82.742 208.33 85.3976C213.012 88.0532 216.907 91.9029 219.616 96.5544C222.326 101.206 223.753 106.492 223.753 111.875C223.753 117.258 222.326 122.545 219.616 127.197C216.907 131.848 213.012 135.698 208.33 138.353C203.648 141.009 198.345 142.375 192.962 142.313C187.58 142.251 182.31 140.763 177.69 138L138 177.7C141.808 184.071 143.155 191.614 141.79 198.91C140.424 206.205 136.44 212.75 130.585 217.313C124.731 221.875 117.412 224.141 110.004 223.683C102.596 223.226 95.6103 220.077 90.3621 214.828C85.1139 209.58 81.9647 202.595 81.5072 195.187C81.0497 187.779 83.3154 180.459 87.878 174.605C92.4405 168.751 98.9853 164.766 106.281 163.401C113.576 162.035 121.119 163.383 127.49 167.19L167.19 127.49C165.664 124.941 164.518 122.182 163.79 119.3H141.39C139.721 125.858 135.915 131.673 130.573 135.826C125.231 139.98 118.657 142.234 111.89 142.234C105.123 142.234 98.5494 139.98 93.2071 135.826C87.8648 131.673 84.0587 125.858 82.39 119.3H60C58.1878 126.495 53.8086 132.78 47.6863 136.971C41.5641 141.163 34.1211 142.972 26.7579 142.059C19.3947 141.146 12.6191 137.574 7.70605 132.014C2.79302 126.454 0.0813599 119.29 0.0813599 111.87C0.0813599 104.451 2.79302 97.2871 7.70605 91.7272C12.6191 86.1673 19.3947 82.5947 26.7579 81.6817C34.1211 80.7686 41.5641 82.5781 47.6863 86.7696C53.8086 90.9611 58.1878 97.2456 60 104.44H82.35ZM100.86 204.32C103.407 206.868 106.759 208.453 110.345 208.806C113.93 209.159 117.527 208.258 120.522 206.256C123.517 204.254 125.725 201.276 126.771 197.828C127.816 194.38 127.633 190.677 126.253 187.349C124.874 184.021 122.383 181.274 119.205 179.577C116.027 177.88 112.359 177.337 108.826 178.042C105.293 178.746 102.113 180.654 99.8291 183.44C97.5451 186.226 96.2979 189.718 96.3 193.32C96.2985 195.364 96.7006 197.388 97.4831 199.275C98.2656 201.163 99.4132 202.877 100.86 204.32ZM204.32 122.88C206.868 120.333 208.453 116.981 208.806 113.396C209.159 109.811 208.258 106.214 206.256 103.219C204.254 100.223 201.275 98.0151 197.827 96.97C194.38 95.9249 190.676 96.1077 187.348 97.4873C184.02 98.8669 181.274 101.358 179.577 104.536C177.879 107.714 177.337 111.382 178.041 114.915C178.746 118.448 180.653 121.627 183.439 123.911C186.226 126.195 189.717 127.443 193.32 127.44C195.364 127.443 197.388 127.042 199.275 126.259C201.163 125.476 202.878 124.328 204.32 122.88ZM122.88 19.4205C120.333 16.8729 116.981 15.2876 113.395 14.9347C109.81 14.5817 106.213 15.483 103.218 17.4849C100.223 19.4868 98.0146 22.4654 96.9696 25.9131C95.9245 29.3608 96.1073 33.0642 97.4869 36.3922C98.8665 39.7202 101.358 42.4668 104.535 44.1639C107.713 45.861 111.381 46.4036 114.914 45.6992C118.447 44.9949 121.627 43.0871 123.911 40.301C126.195 37.515 127.442 34.0231 127.44 30.4205C127.44 28.3772 127.038 26.3539 126.255 24.4664C125.473 22.5788 124.326 20.8642 122.88 19.4205ZM19.42 100.86C16.8725 103.408 15.2872 106.76 14.9342 110.345C14.5813 113.93 15.4826 117.527 17.4844 120.522C19.4863 123.518 22.4649 125.726 25.9127 126.771C29.3604 127.816 33.0638 127.633 36.3918 126.254C39.7198 124.874 42.4664 122.383 44.1635 119.205C45.8606 116.027 46.4032 112.359 45.6988 108.826C44.9944 105.293 43.0866 102.114 40.3006 99.8296C37.5145 97.5455 34.0227 96.2983 30.42 96.3005C26.2938 96.3018 22.337 97.9421 19.42 100.86ZM100.86 100.86C98.3125 103.408 96.7272 106.76 96.3742 110.345C96.0213 113.93 96.9226 117.527 98.9244 120.522C100.926 123.518 103.905 125.726 107.353 126.771C110.8 127.816 114.504 127.633 117.832 126.254C121.16 124.874 123.906 122.383 125.604 119.205C127.301 116.027 127.843 112.359 127.139 108.826C126.434 105.293 124.527 102.114 121.741 99.8296C118.955 97.5455 115.463 96.2983 111.86 96.3005C109.817 96.299 107.793 96.701 105.905 97.4835C104.018 98.2661 102.303 99.4136 100.86 100.86Z\" fill=\"#00AEEF\"/>\n",
       "    </g>\n",
       "    <defs>\n",
       "        <clipPath id=\"clip0_4338_178347\">\n",
       "            <rect width=\"566.93\" height=\"223.75\" fill=\"white\"/>\n",
       "        </clipPath>\n",
       "    </defs>\n",
       "  </svg>\n",
       "</div>\n",
       "\n",
       "        <table class=\"jp-RenderedHTMLCommon\" style=\"border-collapse: collapse;color: var(--jp-ui-font-color1);font-size: var(--jp-ui-font-size1);\">\n",
       "    <tr>\n",
       "        <td style=\"text-align: left\"><b>Python version:</b></td>\n",
       "        <td style=\"text-align: left\"><b>3.12.0</b></td>\n",
       "    </tr>\n",
       "    <tr>\n",
       "        <td style=\"text-align: left\"><b>Ray version:</b></td>\n",
       "        <td style=\"text-align: left\"><b>2.35.0</b></td>\n",
       "    </tr>\n",
       "    \n",
       "</table>\n",
       "\n",
       "    </div>\n",
       "</div>\n"
      ],
      "text/plain": [
       "RayContext(dashboard_url='', python_version='3.12.0', ray_version='2.35.0', ray_commit='ba24879ff81c8c5fd77acae435ee4a1d0b3d9e0c')"
      ]
     },
     "execution_count": 31,
     "metadata": {},
     "output_type": "execute_result"
    }
   ],
   "source": [
    "# Setup\n",
    "from huggingface_hub import hf_hub_download\n",
    "from datasets import load_dataset\n",
    "import time\n",
    "import ray\n",
    "import os\n",
    "os.chdir(\"C:\\\\Users\\\\WulfN\\\\.cache\\\\huggingface\\\\hub\\\\\")\n",
    "\n",
    "%config InteractiveShell.ast_node_interactivity = 'all'\n",
    "# download model\n",
    "# hf_hub_download(repo_id = 'prithivMLmods/Deep-Fake-Detector-Model', filename = 'config.json') # presumably the config file is needed first\n",
    "# model.safetensors, # pytorch_model.bin\n",
    "\n",
    "# Datasets can be found here: https://huggingface.co/datasets?modality=modality:image&sort=trending&search=deepfake\n",
    "\n",
    "### Load Data\n",
    "dataset = load_dataset(\"Whab/deepfake\")\n",
    "\n",
    "# Enable multiprocessing \n",
    "ray.shutdown()\n",
    "ray.init(num_cpus=os.cpu_count())\n",
    "from ray.util.multiprocessing import Pool"
   ]
  },
  {
   "cell_type": "markdown",
   "metadata": {},
   "source": [
    "# Preview dataset images"
   ]
  },
  {
   "cell_type": "code",
   "execution_count": null,
   "metadata": {},
   "outputs": [],
   "source": [
    "#import ipywidgets as widgets\n",
    "# from IPython.display import display\n",
    "# import ipyplot\n",
    "#from PIL import Image\n",
    "#import matplotlib.pyplot as plt\n",
    "\n",
    "# preview_num = 5\n",
    "\n",
    "# sample_images = dataset['train'][1:preview_num + 1]\n",
    "\n",
    "# display_images = [\n",
    "#     widgets.Image(value=sample_images['image'][i].tobytes(), format='png', width=256, height=256) \n",
    "#     for i in range(preview_num)\n",
    "# ]\n",
    "\n",
    "# display_images\n",
    "# display(widgets.HBox(display_images))\n",
    "\n",
    "## Display images vertically\n",
    "# for i in range(preview_num):\n",
    "#     display(sample_images['image'][i])\n",
    "\n",
    "# display(display_images) \n",
    "# #widgets.HBox(display_images)\n",
    "# # hbox = widgets.HBox(display_images)\n",
    "# # display(hbox)\n",
    "# #display_images"
   ]
  },
  {
   "cell_type": "markdown",
   "metadata": {},
   "source": [
    "Function to create batches of image data"
   ]
  },
  {
   "cell_type": "code",
   "execution_count": 33,
   "metadata": {},
   "outputs": [],
   "source": [
    "import pandas as pd\n",
    "import numpy as np\n",
    "# import modin as pd\n",
    "\n",
    "def create_image_batches(data, batch_size):\n",
    "    \n",
    "    num_images = data.num_rows # data[0].num_rows may be needed when using starmap\n",
    "    batch_size = batch_size\n",
    "\n",
    "    # index value of first image in batch i\n",
    "    batch_key = list(range(0, num_images, batch_size))\n",
    "\n",
    "    # initializing result dataframe\n",
    "    result = pd.DataFrame({'image_batch':[]})\n",
    "\n",
    "    # batching images in groups of chunk_size\n",
    "    for i in range(len(batch_key)):\n",
    "\n",
    "        # index of all images in batch\n",
    "        last_batch_adjustment = (num_images - max(batch_key))\n",
    "        batch_indices = list(range(batch_key[i], batch_key[i] + last_batch_adjustment))\n",
    "\n",
    "        # appending images from batch into list\n",
    "        batched_images = []\n",
    "        for j in batch_indices:\n",
    "            batched_images.append(data[j]['image'])\n",
    "\n",
    "        batch = pd.DataFrame({'image_batch': [batched_images]})\n",
    "        \n",
    "        # combining batches into pandas dataframe\n",
    "        result = pd.concat([result, batch])\n",
    "            \n",
    "    return result\n"
   ]
  },
  {
   "cell_type": "code",
   "execution_count": null,
   "metadata": {},
   "outputs": [],
   "source": [
    "# n_cores = os.cpu_count()\n",
    "# test_df = dataset['train'].train_test_split(test_size=0.1, shuffle=False)\n",
    "\n",
    "# chunk_6 = test_df['test'].shard(num_shards=n_cores, index=6)\n",
    "# chunk_7 = test_df['test'].shard(num_shards=n_cores, index=7)\n",
    "\n",
    "# data = chunk_7\n",
    "# ########## DELETE ########## DELETE ########## DELETE ########## DELETE \n",
    "# num_images = data.num_rows # chunk_6, chunk_7\n",
    "# batch_size = 3\n",
    "\n",
    "# # index value of first image in batch i\n",
    "# batch_key = list(range(0, num_images, batch_size))\n",
    "\n",
    "# # initializing result dataframe\n",
    "# result = pd.DataFrame({'index': [],\n",
    "#                        'image_batch': []})\n",
    "\n",
    "# # batching images in groups of chunk_size\n",
    "# for i in range(len(batch_key)):\n",
    "\n",
    "#     # index of all images in batch\n",
    "#     last_batch_adjustment = (num_images - max(batch_key))\n",
    "#     #if (max(batch_key) + batch_size - 1) > num_images\n",
    "#     batch_indices = list(range(batch_key[i], batch_key[i] + last_batch_adjustment))\n",
    "    \n",
    "\n",
    "#     # appending images from batch into list\n",
    "#     batched_images = []\n",
    "#     for j in batch_indices:\n",
    "#         batched_images.append(data[j]['image'])\n",
    "\n",
    "#     batch = pd.DataFrame({'index': [i],\n",
    "#                           'image_batch': [batched_images]})\n",
    "    \n",
    "#     # Adding batch to dataframe\n",
    "#     result = pd.concat([result, batch])\n",
    "\n",
    "# max(batch_key) # 2241\n",
    "# last_batch_adjustment\n",
    "# batch_indices\n",
    "# chunk_7\n",
    "# result\n"
   ]
  },
  {
   "cell_type": "code",
   "execution_count": 40,
   "metadata": {},
   "outputs": [
    {
     "name": "stdout",
     "output_type": "stream",
     "text": [
      "Process complete in:  64.56059098243713\n"
     ]
    },
    {
     "data": {
      "text/plain": [
       "[                                          image_batch\n",
       " 0   [<PIL.JpegImagePlugin.JpegImageFile image mode...\n",
       " 0   [<PIL.JpegImagePlugin.JpegImageFile image mode...\n",
       " 0   [<PIL.JpegImagePlugin.JpegImageFile image mode...\n",
       " 0   [<PIL.JpegImagePlugin.JpegImageFile image mode...\n",
       " 0   [<PIL.JpegImagePlugin.JpegImageFile image mode...\n",
       " ..                                                ...\n",
       " 0   [<PIL.JpegImagePlugin.JpegImageFile image mode...\n",
       " 0   [<PIL.JpegImagePlugin.JpegImageFile image mode...\n",
       " 0   [<PIL.JpegImagePlugin.JpegImageFile image mode...\n",
       " 0   [<PIL.JpegImagePlugin.JpegImageFile image mode...\n",
       " 0   [<PIL.JpegImagePlugin.JpegImageFile image mode...\n",
       " \n",
       " [748 rows x 1 columns],\n",
       "                                           image_batch\n",
       " 0   [<PIL.JpegImagePlugin.JpegImageFile image mode...\n",
       " 0   [<PIL.JpegImagePlugin.JpegImageFile image mode...\n",
       " 0   [<PIL.JpegImagePlugin.JpegImageFile image mode...\n",
       " 0   [<PIL.JpegImagePlugin.JpegImageFile image mode...\n",
       " 0   [<PIL.JpegImagePlugin.JpegImageFile image mode...\n",
       " ..                                                ...\n",
       " 0   [<PIL.JpegImagePlugin.JpegImageFile image mode...\n",
       " 0   [<PIL.JpegImagePlugin.JpegImageFile image mode...\n",
       " 0   [<PIL.JpegImagePlugin.JpegImageFile image mode...\n",
       " 0   [<PIL.JpegImagePlugin.JpegImageFile image mode...\n",
       " 0   [<PIL.JpegImagePlugin.JpegImageFile image mode...\n",
       " \n",
       " [748 rows x 1 columns],\n",
       "                                           image_batch\n",
       " 0   [<PIL.JpegImagePlugin.JpegImageFile image mode...\n",
       " 0   [<PIL.JpegImagePlugin.JpegImageFile image mode...\n",
       " 0   [<PIL.JpegImagePlugin.JpegImageFile image mode...\n",
       " 0   [<PIL.JpegImagePlugin.JpegImageFile image mode...\n",
       " 0   [<PIL.JpegImagePlugin.JpegImageFile image mode...\n",
       " ..                                                ...\n",
       " 0   [<PIL.JpegImagePlugin.JpegImageFile image mode...\n",
       " 0   [<PIL.JpegImagePlugin.JpegImageFile image mode...\n",
       " 0   [<PIL.JpegImagePlugin.JpegImageFile image mode...\n",
       " 0   [<PIL.JpegImagePlugin.JpegImageFile image mode...\n",
       " 0   [<PIL.JpegImagePlugin.JpegImageFile image mode...\n",
       " \n",
       " [748 rows x 1 columns],\n",
       "                                           image_batch\n",
       " 0   [<PIL.JpegImagePlugin.JpegImageFile image mode...\n",
       " 0   [<PIL.JpegImagePlugin.JpegImageFile image mode...\n",
       " 0   [<PIL.JpegImagePlugin.JpegImageFile image mode...\n",
       " 0   [<PIL.JpegImagePlugin.JpegImageFile image mode...\n",
       " 0   [<PIL.JpegImagePlugin.JpegImageFile image mode...\n",
       " ..                                                ...\n",
       " 0   [<PIL.JpegImagePlugin.JpegImageFile image mode...\n",
       " 0   [<PIL.JpegImagePlugin.JpegImageFile image mode...\n",
       " 0   [<PIL.JpegImagePlugin.JpegImageFile image mode...\n",
       " 0   [<PIL.JpegImagePlugin.JpegImageFile image mode...\n",
       " 0   [<PIL.JpegImagePlugin.JpegImageFile image mode...\n",
       " \n",
       " [748 rows x 1 columns],\n",
       "                                           image_batch\n",
       " 0   [<PIL.JpegImagePlugin.JpegImageFile image mode...\n",
       " 0   [<PIL.JpegImagePlugin.JpegImageFile image mode...\n",
       " 0   [<PIL.JpegImagePlugin.JpegImageFile image mode...\n",
       " 0   [<PIL.JpegImagePlugin.JpegImageFile image mode...\n",
       " 0   [<PIL.JpegImagePlugin.JpegImageFile image mode...\n",
       " ..                                                ...\n",
       " 0   [<PIL.JpegImagePlugin.JpegImageFile image mode...\n",
       " 0   [<PIL.JpegImagePlugin.JpegImageFile image mode...\n",
       " 0   [<PIL.JpegImagePlugin.JpegImageFile image mode...\n",
       " 0   [<PIL.JpegImagePlugin.JpegImageFile image mode...\n",
       " 0   [<PIL.JpegImagePlugin.JpegImageFile image mode...\n",
       " \n",
       " [748 rows x 1 columns],\n",
       "                                           image_batch\n",
       " 0   [<PIL.JpegImagePlugin.JpegImageFile image mode...\n",
       " 0   [<PIL.JpegImagePlugin.JpegImageFile image mode...\n",
       " 0   [<PIL.JpegImagePlugin.JpegImageFile image mode...\n",
       " 0   [<PIL.JpegImagePlugin.JpegImageFile image mode...\n",
       " 0   [<PIL.JpegImagePlugin.JpegImageFile image mode...\n",
       " ..                                                ...\n",
       " 0   [<PIL.JpegImagePlugin.JpegImageFile image mode...\n",
       " 0   [<PIL.JpegImagePlugin.JpegImageFile image mode...\n",
       " 0   [<PIL.JpegImagePlugin.JpegImageFile image mode...\n",
       " 0   [<PIL.JpegImagePlugin.JpegImageFile image mode...\n",
       " 0   [<PIL.JpegImagePlugin.JpegImageFile image mode...\n",
       " \n",
       " [748 rows x 1 columns],\n",
       "                                           image_batch\n",
       " 0   [<PIL.JpegImagePlugin.JpegImageFile image mode...\n",
       " 0   [<PIL.JpegImagePlugin.JpegImageFile image mode...\n",
       " 0   [<PIL.JpegImagePlugin.JpegImageFile image mode...\n",
       " 0   [<PIL.JpegImagePlugin.JpegImageFile image mode...\n",
       " 0   [<PIL.JpegImagePlugin.JpegImageFile image mode...\n",
       " ..                                                ...\n",
       " 0   [<PIL.JpegImagePlugin.JpegImageFile image mode...\n",
       " 0   [<PIL.JpegImagePlugin.JpegImageFile image mode...\n",
       " 0   [<PIL.JpegImagePlugin.JpegImageFile image mode...\n",
       " 0   [<PIL.JpegImagePlugin.JpegImageFile image mode...\n",
       " 0   [<PIL.JpegImagePlugin.JpegImageFile image mode...\n",
       " \n",
       " [748 rows x 1 columns],\n",
       "                                           image_batch\n",
       " 0   [<PIL.JpegImagePlugin.JpegImageFile image mode...\n",
       " 0   [<PIL.JpegImagePlugin.JpegImageFile image mode...\n",
       " 0   [<PIL.JpegImagePlugin.JpegImageFile image mode...\n",
       " 0   [<PIL.JpegImagePlugin.JpegImageFile image mode...\n",
       " 0   [<PIL.JpegImagePlugin.JpegImageFile image mode...\n",
       " ..                                                ...\n",
       " 0   [<PIL.JpegImagePlugin.JpegImageFile image mode...\n",
       " 0   [<PIL.JpegImagePlugin.JpegImageFile image mode...\n",
       " 0   [<PIL.JpegImagePlugin.JpegImageFile image mode...\n",
       " 0   [<PIL.JpegImagePlugin.JpegImageFile image mode...\n",
       " 0   [<PIL.JpegImagePlugin.JpegImageFile image mode...\n",
       " \n",
       " [748 rows x 1 columns]]"
      ]
     },
     "execution_count": 40,
     "metadata": {},
     "output_type": "execute_result"
    }
   ],
   "source": [
    "from ray.util.multiprocessing import Pool\n",
    "\n",
    "n_cores = os.cpu_count()\n",
    "test_df = dataset['train'].train_test_split(test_size=0.1, shuffle=False)\n",
    "\n",
    "args = []\n",
    "for i in range(n_cores):\n",
    "    chunk = test_df['test'].shard(num_shards=n_cores, index=i)\n",
    "    args.append((chunk, 3))\n",
    "\n",
    "########################################### functionalize with the function and args as function arguments\n",
    "if __name__ == \"__main__\":\n",
    "    # Create arguments for starmap\n",
    "    start = time.time()\n",
    "\n",
    "    results = []\n",
    "    pool = Pool(n_cores)\n",
    "    # for result in pool.starmap(create_image_batches, args):\n",
    "    #     results.append(result)\n",
    "        #print(result) consider head of dataset?\n",
    "    results = pool.starmap(create_image_batches, args)\n",
    "\n",
    "    end = time.time() - start\n",
    "    print('Process complete in: ', end)\n",
    "\n",
    "results\n"
   ]
  },
  {
   "cell_type": "code",
   "execution_count": 42,
   "metadata": {},
   "outputs": [],
   "source": [
    "fn_only = create_image_batches(test_df['test'], batch_size = 3)"
   ]
  },
  {
   "cell_type": "code",
   "execution_count": null,
   "metadata": {},
   "outputs": [
    {
     "data": {
      "text/plain": [
       "0    [<PIL.JpegImagePlugin.JpegImageFile image mode...\n",
       "0    [<PIL.JpegImagePlugin.JpegImageFile image mode...\n",
       "0    [<PIL.JpegImagePlugin.JpegImageFile image mode...\n",
       "0    [<PIL.JpegImagePlugin.JpegImageFile image mode...\n",
       "0    [<PIL.JpegImagePlugin.JpegImageFile image mode...\n",
       "                           ...                        \n",
       "0    [<PIL.JpegImagePlugin.JpegImageFile image mode...\n",
       "0    [<PIL.JpegImagePlugin.JpegImageFile image mode...\n",
       "0    [<PIL.JpegImagePlugin.JpegImageFile image mode...\n",
       "0    [<PIL.JpegImagePlugin.JpegImageFile image mode...\n",
       "0    [<PIL.JpegImagePlugin.JpegImageFile image mode...\n",
       "Name: image_batch, Length: 748, dtype: object"
      ]
     },
     "execution_count": 39,
     "metadata": {},
     "output_type": "execute_result"
    }
   ],
   "source": [
    "# combine dataframes continuously\n",
    "# functionalize ray starmap combo\n",
    "# TEST parallelizing create_image_batches function when using model - 55-65 seconds on test_df vs 23 seconds without parallelization\n",
    "# ensure you image batches can be fed to model\n",
    "# test how long it takes with 1 image, batch of 2, and batch of 3, test batching all images at once beforehand, and including in the multiprocessing portion\n",
    "# apply function to model training on the training data\n",
    "\n"
   ]
  },
  {
   "cell_type": "code",
   "execution_count": null,
   "metadata": {},
   "outputs": [],
   "source": [
    "def simple_fn(x, y):\n",
    "    time.sleep(2)\n",
    "    return x + y"
   ]
  },
  {
   "cell_type": "code",
   "execution_count": null,
   "metadata": {},
   "outputs": [],
   "source": [
    "# Goal: Map create_image_batches over each chunk with batch_size of 3\n",
    "# with Pool(n_cores) as pool:\n",
    "#     chunks = [test_df['test'].shard(num_shards=n_cores, index=i) for i in range(n_cores)] \n",
    "#     args = (chunks, 3)\n",
    "\n",
    "\n",
    "\n",
    "pool = Pool(n_cores)#with Pool(n_cores) as pool:\n",
    "chunks = [test_df['test'].shard(num_shards=n_cores, index=i) for i in range(n_cores)] \n",
    "\n",
    "# Create arguments for starmap\n",
    "args = []\n",
    "for i in range(n_cores):\n",
    "    args.append((chunks[i], 3))\n"
   ]
  },
  {
   "cell_type": "code",
   "execution_count": null,
   "metadata": {},
   "outputs": [],
   "source": [
    "\n",
    "# Rather than results_a = []pipe(image i), pipe(batch of images i), try batch of 3 images then 2\n",
    "# predictions = pd.DataFrame()\n",
    "# for i in range(batches):\n",
    "#     image_score = pd.DataFrame(pipe(batches[i])) #dataset['train'][:df_length+1]['image'][i]\n",
    "#     predictions = pd.concat([predictions, pd.concat({i: image_score}, names=['image_num'])])"
   ]
  },
  {
   "cell_type": "code",
   "execution_count": null,
   "metadata": {},
   "outputs": [],
   "source": [
    "from transformers import pipeline\n",
    "# Consider Fully Sharded Data Parallel on model for processing\n",
    "\n",
    "batches_test = batches[:100]\n",
    "\n",
    "# Huggingface model\n",
    "pipe = pipeline(\"image-classification\", model=\"prithivMLmods/Deep-Fake-Detector-Model\", device=-1); \n",
    "\n",
    "# Get predictions over batches of images\n",
    "predictions_test = parallel_apply(batches_test, 'image_batch', pipe)\n",
    "predictions_test"
   ]
  },
  {
   "cell_type": "code",
   "execution_count": null,
   "metadata": {},
   "outputs": [],
   "source": [
    "# Save table in repo\n",
    "import pickle\n",
    "predictions.to_pickle('huggingface_predictions')"
   ]
  },
  {
   "cell_type": "markdown",
   "metadata": {},
   "source": [
    "dist'n of fake and real scores"
   ]
  },
  {
   "cell_type": "code",
   "execution_count": null,
   "metadata": {},
   "outputs": [],
   "source": [
    "# dist'n of fake and real scores\n",
    "import seaborn as sb\n",
    "sb.displot(kind='hist', data=predictions.loc[lambda x: x.label == 'Fake'], bins=100)\n",
    "sb.displot(kind='hist', data=predictions.loc[lambda x: x.label == 'Real'], bins=100)"
   ]
  },
  {
   "cell_type": "code",
   "execution_count": null,
   "metadata": {},
   "outputs": [],
   "source": [
    "# AUC score"
   ]
  }
 ],
 "metadata": {
  "kernelspec": {
   "display_name": "env",
   "language": "python",
   "name": "env"
  },
  "language_info": {
   "codemirror_mode": {
    "name": "ipython",
    "version": 3
   },
   "file_extension": ".py",
   "mimetype": "text/x-python",
   "name": "python",
   "nbconvert_exporter": "python",
   "pygments_lexer": "ipython3",
   "version": "3.12.0"
  }
 },
 "nbformat": 4,
 "nbformat_minor": 2
}
