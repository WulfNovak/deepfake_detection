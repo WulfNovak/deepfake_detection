{
 "cells": [
  {
   "cell_type": "code",
   "execution_count": 69,
   "metadata": {},
   "outputs": [],
   "source": [
    "# Setup\n",
    "from huggingface_hub import hf_hub_download\n",
    "from datasets import load_dataset\n",
    "import os \n",
    "os.chdir(\"C:\\\\Users\\\\WulfN\\\\.cache\\\\huggingface\\\\hub\\\\\")\n",
    "\n",
    "%config InteractiveShell.ast_node_interactivity = 'all'\n",
    "# download model\n",
    "#hf_hub_download(repo_id = 'prithivMLmods/Deep-Fake-Detector-Model', filename = 'config.json') # presumably the config file is needed first\n",
    "# model.safetensors, # pytorch_model.bin\n",
    "\n",
    "# Datasets can be found here: https://huggingface.co/datasets?modality=modality:image&sort=trending&search=deepfake\n",
    "\n"
   ]
  },
  {
   "cell_type": "code",
   "execution_count": 2,
   "metadata": {},
   "outputs": [],
   "source": [
    "### Load Data\n",
    "dataset = load_dataset(\"Whab/deepfake\")"
   ]
  },
  {
   "cell_type": "markdown",
   "metadata": {},
   "source": [
    "# Preview dataset images"
   ]
  },
  {
   "cell_type": "code",
   "execution_count": 3,
   "metadata": {},
   "outputs": [],
   "source": [
    "#import ipywidgets as widgets\n",
    "from IPython.display import display\n",
    "import ipyplot\n",
    "#from PIL import Image\n",
    "#import matplotlib.pyplot as plt\n",
    "\n",
    "preview_num = 5\n",
    "\n",
    "sample_images = dataset['train'][1:preview_num + 1]\n",
    "\n",
    "# display_images = [\n",
    "#     widgets.Image(value=sample_images['image'][i].tobytes(), format='png', width=256, height=256) \n",
    "#     for i in range(preview_num)\n",
    "# ]\n",
    "\n",
    "# display_images\n",
    "# display(widgets.HBox(display_images))\n",
    "\n",
    "## Display images vertically\n",
    "# for i in range(preview_num):\n",
    "#     display(sample_images['image'][i])\n",
    "\n",
    "# display(display_images) \n",
    "# #widgets.HBox(display_images)\n",
    "# # hbox = widgets.HBox(display_images)\n",
    "# # display(hbox)\n",
    "# #display_images"
   ]
  },
  {
   "cell_type": "code",
   "execution_count": 26,
   "metadata": {},
   "outputs": [],
   "source": [
    "### Pipeline approach\n",
    "from transformers import pipeline\n",
    "\n",
    "pipe = pipeline(\"image-classification\", model=\"prithivMLmods/Deep-Fake-Detector-Model\", device=-1);  \n",
    "\n",
    "### Load model directly:\n",
    "# from transformers import AutoImageProcessor, AutoModelForImageClassification\n",
    "\n",
    "# processor = AutoImageProcessor.from_pretrained(\"prithivMLmods/Deep-Fake-Detector-Model\")\n",
    "# model = AutoModelForImageClassification.from_pretrained(\"prithivMLmods/Deep-Fake-Detector-Model\")"
   ]
  },
  {
   "cell_type": "markdown",
   "metadata": {},
   "source": [
    "Function to reate batches of image data"
   ]
  },
  {
   "cell_type": "code",
   "execution_count": null,
   "metadata": {},
   "outputs": [],
   "source": [
    "import pandas as pd\n",
    "# import modin as pd\n",
    "# add multiprocessing: https://superfastpython.com/multiprocessing-for-loop/\n",
    "\n",
    "def create_image_batches(data, batch_size):\n",
    "    \n",
    "    num_images = data['train'].num_rows\n",
    "    batch_size = batch_size\n",
    "    # index value of first image in batch i\n",
    "    batch_key = list(range(0, num_images, batch_size))\n",
    "    \n",
    "    result = pd.DataFrame({'index': [],\n",
    "                           'image_batch':[]})\n",
    "    \n",
    "    for i in range(len(batch_key)):\n",
    "\n",
    "        # index of all images in batch\n",
    "        batch_indices = list(range(batch_key[i], batch_key[i] + batch_size))\n",
    "\n",
    "        # appending images from batch into list\n",
    "        batch_i = []\n",
    "        for j in batch_indices:\n",
    "            add_image = data['train'][j]['image']\n",
    "            batch_i.append(add_image) \n",
    "\n",
    "        batch = pd.DataFrame({'index': [i],\n",
    "                              'image_batch': [batch_i]})\n",
    "        \n",
    "        # Adding batch to dataframe\n",
    "        result = pd.concat([result, batch])\n"
   ]
  },
  {
   "cell_type": "code",
   "execution_count": null,
   "metadata": {},
   "outputs": [],
   "source": [
    "batches = create_image_batches(dataset, batch_size = 3)\n",
    "\n",
    "# time with pandas"
   ]
  },
  {
   "cell_type": "code",
   "execution_count": null,
   "metadata": {},
   "outputs": [],
   "source": [
    "print('Number of batches: 'len(batches))\n",
    "batches.head(20)"
   ]
  },
  {
   "cell_type": "code",
   "execution_count": null,
   "metadata": {},
   "outputs": [
    {
     "data": {
      "text/html": [
       "<div>\n",
       "<style scoped>\n",
       "    .dataframe tbody tr th:only-of-type {\n",
       "        vertical-align: middle;\n",
       "    }\n",
       "\n",
       "    .dataframe tbody tr th {\n",
       "        vertical-align: top;\n",
       "    }\n",
       "\n",
       "    .dataframe thead th {\n",
       "        text-align: right;\n",
       "    }\n",
       "</style>\n",
       "<table border=\"1\" class=\"dataframe\">\n",
       "  <thead>\n",
       "    <tr style=\"text-align: right;\">\n",
       "      <th></th>\n",
       "      <th></th>\n",
       "      <th>label</th>\n",
       "      <th>score</th>\n",
       "    </tr>\n",
       "    <tr>\n",
       "      <th>image_num</th>\n",
       "      <th></th>\n",
       "      <th></th>\n",
       "      <th></th>\n",
       "    </tr>\n",
       "  </thead>\n",
       "  <tbody>\n",
       "    <tr>\n",
       "      <th rowspan=\"2\" valign=\"top\">0</th>\n",
       "      <th>0</th>\n",
       "      <td>Fake</td>\n",
       "      <td>0.976109</td>\n",
       "    </tr>\n",
       "    <tr>\n",
       "      <th>1</th>\n",
       "      <td>Real</td>\n",
       "      <td>0.020260</td>\n",
       "    </tr>\n",
       "    <tr>\n",
       "      <th rowspan=\"2\" valign=\"top\">1</th>\n",
       "      <th>0</th>\n",
       "      <td>Fake</td>\n",
       "      <td>0.978068</td>\n",
       "    </tr>\n",
       "    <tr>\n",
       "      <th>1</th>\n",
       "      <td>Real</td>\n",
       "      <td>0.018317</td>\n",
       "    </tr>\n",
       "    <tr>\n",
       "      <th>2</th>\n",
       "      <th>0</th>\n",
       "      <td>Fake</td>\n",
       "      <td>0.977322</td>\n",
       "    </tr>\n",
       "    <tr>\n",
       "      <th>...</th>\n",
       "      <th>...</th>\n",
       "      <td>...</td>\n",
       "      <td>...</td>\n",
       "    </tr>\n",
       "    <tr>\n",
       "      <th>997</th>\n",
       "      <th>1</th>\n",
       "      <td>Real</td>\n",
       "      <td>0.020522</td>\n",
       "    </tr>\n",
       "    <tr>\n",
       "      <th rowspan=\"2\" valign=\"top\">998</th>\n",
       "      <th>0</th>\n",
       "      <td>Fake</td>\n",
       "      <td>0.973141</td>\n",
       "    </tr>\n",
       "    <tr>\n",
       "      <th>1</th>\n",
       "      <td>Real</td>\n",
       "      <td>0.022830</td>\n",
       "    </tr>\n",
       "    <tr>\n",
       "      <th rowspan=\"2\" valign=\"top\">999</th>\n",
       "      <th>0</th>\n",
       "      <td>Fake</td>\n",
       "      <td>0.978275</td>\n",
       "    </tr>\n",
       "    <tr>\n",
       "      <th>1</th>\n",
       "      <td>Real</td>\n",
       "      <td>0.017491</td>\n",
       "    </tr>\n",
       "  </tbody>\n",
       "</table>\n",
       "<p>2000 rows × 2 columns</p>\n",
       "</div>"
      ],
      "text/plain": [
       "            label     score\n",
       "image_num                  \n",
       "0         0  Fake  0.976109\n",
       "          1  Real  0.020260\n",
       "1         0  Fake  0.978068\n",
       "          1  Real  0.018317\n",
       "2         0  Fake  0.977322\n",
       "...           ...       ...\n",
       "997       1  Real  0.020522\n",
       "998       0  Fake  0.973141\n",
       "          1  Real  0.022830\n",
       "999       0  Fake  0.978275\n",
       "          1  Real  0.017491\n",
       "\n",
       "[2000 rows x 2 columns]"
      ]
     },
     "execution_count": 5,
     "metadata": {},
     "output_type": "execute_result"
    }
   ],
   "source": [
    "import pandas as pd\n",
    "#import psutil\n",
    "# consider doing different values of i \n",
    "\n",
    "df_length = 100\n",
    "\n",
    "# Rather than pipe(image i), pipe(batch of images i), try batch of 3 images then 2\n",
    "predictions = pd.DataFrame()\n",
    "for i in range(df_length):\n",
    "    image_score = pd.DataFrame(pipe(dataset['train'][:df_length+1]['image'][i])) #dataset['train'][:df_length+1]['image'][i]\n",
    "    predictions = pd.concat([predictions, pd.concat({i: image_score}, names=['image_num'])])\n",
    "\n",
    "predictions\n",
    "# AUC score"
   ]
  },
  {
   "cell_type": "code",
   "execution_count": null,
   "metadata": {},
   "outputs": [],
   "source": [
    "# Save table in repo\n",
    "import pickle\n",
    "predictions.to_pickle('huggingface_predictions')"
   ]
  },
  {
   "cell_type": "markdown",
   "metadata": {},
   "source": [
    "dist'n of fake and real scores"
   ]
  },
  {
   "cell_type": "code",
   "execution_count": null,
   "metadata": {},
   "outputs": [],
   "source": [
    "# dist'n of fake and real scores\n",
    "import seaborn as sb\n",
    "sb.displot(kind='hist', data=predictions.loc[lambda x: x.label == 'Fake'], bins=100)\n",
    "sb.displot(kind='hist', data=predictions.loc[lambda x: x.label == 'Real'], bins=100)"
   ]
  },
  {
   "cell_type": "code",
   "execution_count": null,
   "metadata": {},
   "outputs": [],
   "source": [
    "# AUC score"
   ]
  }
 ],
 "metadata": {
  "kernelspec": {
   "display_name": "env",
   "language": "python",
   "name": "env"
  },
  "language_info": {
   "codemirror_mode": {
    "name": "ipython",
    "version": 3
   },
   "file_extension": ".py",
   "mimetype": "text/x-python",
   "name": "python",
   "nbconvert_exporter": "python",
   "pygments_lexer": "ipython3",
   "version": "3.12.0"
  }
 },
 "nbformat": 4,
 "nbformat_minor": 2
}
